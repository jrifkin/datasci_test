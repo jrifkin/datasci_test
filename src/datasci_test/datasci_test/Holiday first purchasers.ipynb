{
 "cells": [
  {
   "cell_type": "code",
   "execution_count": 1,
   "metadata": {
    "collapsed": true
   },
   "outputs": [],
   "source": [
    "from dbconnector import *\n",
    "import pandas as pd\n",
    "import numpy as np\n",
    "%matplotlib inline\n",
    "%gui"
   ]
  },
  {
   "cell_type": "code",
   "execution_count": null,
   "metadata": {
    "collapsed": true
   },
   "outputs": [],
   "source": [
    "dbconfig = get_configuration()\n",
    "connection = make_connection(dbconfig)\n",
    "q_devices = \"Select * from datasci.devices\"\n",
    "q_actions = \"Select * from datasci.actions\"\n",
    "q_products_lookup = \"Select * from datasci.products_lookup\"\n",
    "\n",
    "devices = query_db(connection, q_devices)\n",
    "actions = query_db(connection, q_actions)\n",
    "product_lookup = query_db(connection, q_products_lookup)"
   ]
  }
 ],
 "metadata": {
  "kernelspec": {
   "display_name": "Python 2",
   "language": "python",
   "name": "python2"
  },
  "language_info": {
   "codemirror_mode": {
    "name": "ipython",
    "version": 2
   },
   "file_extension": ".py",
   "mimetype": "text/x-python",
   "name": "python",
   "nbconvert_exporter": "python",
   "pygments_lexer": "ipython2",
   "version": "2.7.9"
  }
 },
 "nbformat": 4,
 "nbformat_minor": 0
}
