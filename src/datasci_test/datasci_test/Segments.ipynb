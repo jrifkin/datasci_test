{
 "cells": [
  {
   "cell_type": "code",
   "execution_count": 1,
   "metadata": {
    "collapsed": true
   },
   "outputs": [],
   "source": [
    "import ConfigParser\n",
    "import sys\n",
    "import MySQLdb as mdb\n",
    "import pandas as pd\n",
    "import numpy as np"
   ]
  },
  {
   "cell_type": "code",
   "execution_count": 3,
   "metadata": {
    "collapsed": true
   },
   "outputs": [],
   "source": [
    "def get_configuration(conf_file='db.conf'):\n",
    "    new_config = ConfigParser.SafeConfigParser()\n",
    "    try:\n",
    "        with open(conf_file, 'r') as dbconf_file:\n",
    "            new_config.readfp(dbconf_file)\n",
    "    except ConfigParser.ParsingError, parse_err:\n",
    "        print parse_err\n",
    "\n",
    "    return new_config\n",
    "\n",
    "def make_connection(cf):\n",
    "    \n",
    "    dialect = cf.get('Database', 'type')\n",
    "    user = cf.get('Database', 'db_user')\n",
    "    pw = cf.get('Database', 'password')\n",
    "    host = cf.get('Database', 'host')\n",
    "    db_name = cf.get('Database', 'dbname')\n",
    "    port = cf.get('Database', 'port')\n",
    "    driver = cf.get('Database', 'driver')\n",
    "    \n",
    "    con = mdb.connect(host,user,pw,db_name)\n",
    "    return con\n",
    "\n",
    "def query_db(connection,query):\n",
    "    df = pd.read_sql_query(query,connection)\n",
    "\n",
    "    return df"
   ]
  },
  {
   "cell_type": "code",
   "execution_count": 8,
   "metadata": {
    "collapsed": false
   },
   "outputs": [],
   "source": [
    "dbconfig = get_configuration()\n",
    "connection = make_connection(dbconfig)\n",
    "q_devices = \"Select * from datasci.devices\"\n",
    "q_actions = \"Select * from datasci.actions\"\n",
    "q_products_lookup = \"Select * from datasci.products_lookup\"\n",
    "\n",
    "devices = query_db(connection, q_devices)\n",
    "actions = query_db(connection, q_actions)\n",
    "product_lookup = query_db(connection, q_products_lookup)"
   ]
  },
  {
   "cell_type": "code",
   "execution_count": 11,
   "metadata": {
    "collapsed": false
   },
   "outputs": [
    {
     "data": {
      "text/html": [
       "<div style=\"max-height:1000px;max-width:1500px;overflow:auto;\">\n",
       "<table border=\"1\" class=\"dataframe\">\n",
       "  <thead>\n",
       "    <tr style=\"text-align: right;\">\n",
       "      <th></th>\n",
       "      <th>item_name</th>\n",
       "      <th>item_id</th>\n",
       "    </tr>\n",
       "  </thead>\n",
       "  <tbody>\n",
       "    <tr>\n",
       "      <th>0</th>\n",
       "      <td>Launch Button</td>\n",
       "      <td>313</td>\n",
       "    </tr>\n",
       "    <tr>\n",
       "      <th>1</th>\n",
       "      <td>Base Station</td>\n",
       "      <td>132</td>\n",
       "    </tr>\n",
       "    <tr>\n",
       "      <th>2</th>\n",
       "      <td>Remote</td>\n",
       "      <td>312</td>\n",
       "    </tr>\n",
       "    <tr>\n",
       "      <th>3</th>\n",
       "      <td>Dashboard + Monitor</td>\n",
       "      <td>15</td>\n",
       "    </tr>\n",
       "    <tr>\n",
       "      <th>4</th>\n",
       "      <td>Spy Camera</td>\n",
       "      <td>17</td>\n",
       "    </tr>\n",
       "    <tr>\n",
       "      <th>5</th>\n",
       "      <td>Alarm</td>\n",
       "      <td>314</td>\n",
       "    </tr>\n",
       "    <tr>\n",
       "      <th>6</th>\n",
       "      <td>Dashboard</td>\n",
       "      <td>14</td>\n",
       "    </tr>\n",
       "    <tr>\n",
       "      <th>7</th>\n",
       "      <td>Laser</td>\n",
       "      <td>18</td>\n",
       "    </tr>\n",
       "    <tr>\n",
       "      <th>8</th>\n",
       "      <td>Signal Amplifier</td>\n",
       "      <td>12</td>\n",
       "    </tr>\n",
       "    <tr>\n",
       "      <th>9</th>\n",
       "      <td>Status Indicator Lg</td>\n",
       "      <td>57</td>\n",
       "    </tr>\n",
       "    <tr>\n",
       "      <th>10</th>\n",
       "      <td>Status Indicator Sm</td>\n",
       "      <td>55</td>\n",
       "    </tr>\n",
       "    <tr>\n",
       "      <th>11</th>\n",
       "      <td>Status Indicator Md</td>\n",
       "      <td>56</td>\n",
       "    </tr>\n",
       "    <tr>\n",
       "      <th>12</th>\n",
       "      <td>Hologram Generator</td>\n",
       "      <td>99</td>\n",
       "    </tr>\n",
       "  </tbody>\n",
       "</table>\n",
       "</div>"
      ],
      "text/plain": [
       "              item_name  item_id\n",
       "0         Launch Button      313\n",
       "1          Base Station      132\n",
       "2                Remote      312\n",
       "3   Dashboard + Monitor       15\n",
       "4            Spy Camera       17\n",
       "5                 Alarm      314\n",
       "6             Dashboard       14\n",
       "7                 Laser       18\n",
       "8      Signal Amplifier       12\n",
       "9   Status Indicator Lg       57\n",
       "10  Status Indicator Sm       55\n",
       "11  Status Indicator Md       56\n",
       "12   Hologram Generator       99"
      ]
     },
     "execution_count": 11,
     "metadata": {},
     "output_type": "execute_result"
    }
   ],
   "source": [
    "product_lookup"
   ]
  },
  {
   "cell_type": "code",
   "execution_count": null,
   "metadata": {
    "collapsed": true
   },
   "outputs": [],
   "source": []
  }
 ],
 "metadata": {
  "kernelspec": {
   "display_name": "Python 2",
   "language": "python",
   "name": "python2"
  },
  "language_info": {
   "codemirror_mode": {
    "name": "ipython",
    "version": 2
   },
   "file_extension": ".py",
   "mimetype": "text/x-python",
   "name": "python",
   "nbconvert_exporter": "python",
   "pygments_lexer": "ipython2",
   "version": "2.7.9"
  }
 },
 "nbformat": 4,
 "nbformat_minor": 0
}
