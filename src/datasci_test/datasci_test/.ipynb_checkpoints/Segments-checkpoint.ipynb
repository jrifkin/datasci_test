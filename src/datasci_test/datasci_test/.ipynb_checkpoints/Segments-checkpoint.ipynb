{
 "cells": [
  {
   "cell_type": "markdown",
   "metadata": {},
   "source": [
    "#connect to database and import tables"
   ]
  },
  {
   "cell_type": "code",
   "execution_count": 129,
   "metadata": {
    "collapsed": true
   },
   "outputs": [],
   "source": [
    "import ConfigParser\n",
    "import sys\n",
    "import MySQLdb as mdb\n",
    "import pandas as pd\n",
    "import numpy as np\n",
    "from pandas import DataFrame,Series\n",
    "import numpy as np\n",
    "%matplotlib inline\n",
    "%gui"
   ]
  },
  {
   "cell_type": "code",
   "execution_count": 130,
   "metadata": {
    "collapsed": true
   },
   "outputs": [],
   "source": [
    "def get_configuration(conf_file='db.conf'):\n",
    "    new_config = ConfigParser.SafeConfigParser()\n",
    "    try:\n",
    "        with open(conf_file, 'r') as dbconf_file:\n",
    "            new_config.readfp(dbconf_file)\n",
    "    except ConfigParser.ParsingError, parse_err:\n",
    "        print parse_err\n",
    "\n",
    "    return new_config\n",
    "\n",
    "def make_connection(cf):\n",
    "    \n",
    "    dialect = cf.get('Database', 'type')\n",
    "    user = cf.get('Database', 'db_user')\n",
    "    pw = cf.get('Database', 'password')\n",
    "    host = cf.get('Database', 'host')\n",
    "    db_name = cf.get('Database', 'dbname')\n",
    "    port = cf.get('Database', 'port')\n",
    "    driver = cf.get('Database', 'driver')\n",
    "    \n",
    "    con = mdb.connect(host,user,pw,db_name)\n",
    "    return con\n",
    "\n",
    "def query_db(connection,query):\n",
    "    df = pd.read_sql_query(query,connection)\n",
    "\n",
    "    return df"
   ]
  },
  {
   "cell_type": "code",
   "execution_count": 131,
   "metadata": {
    "collapsed": false
   },
   "outputs": [],
   "source": [
    "dbconfig = get_configuration()\n",
    "connection = make_connection(dbconfig)\n",
    "q_devices = \"Select * from datasci.devices\"\n",
    "q_actions = \"Select * from datasci.actions\"\n",
    "q_products_lookup = \"Select * from datasci.products_lookup\"\n",
    "\n",
    "devices = query_db(connection, q_devices)\n",
    "actions = query_db(connection, q_actions)\n",
    "product_lookup = query_db(connection, q_products_lookup)"
   ]
  },
  {
   "cell_type": "markdown",
   "metadata": {},
   "source": [
    "##Question 1: Which segment is the most valuable?"
   ]
  },
  {
   "cell_type": "markdown",
   "metadata": {},
   "source": [
    "* Segment 1:Bought @ least 1 item from best buy\n",
    "* segment 2: own at least one Status Indicator Sm\n",
    "* segment 3: have made at least one holiday purchase [holiday = month 10,11,12]"
   ]
  },
  {
   "cell_type": "code",
   "execution_count": 169,
   "metadata": {
    "collapsed": false
   },
   "outputs": [],
   "source": [
    "segment1 = actions[actions['action_type'] == 'purchase']"
   ]
  },
  {
   "cell_type": "code",
   "execution_count": 170,
   "metadata": {
    "collapsed": false
   },
   "outputs": [],
   "source": [
    "segment1 = segment1[segment1['dealer'] == 'Best Buy']['user_id'].unique()"
   ]
  },
  {
   "cell_type": "code",
   "execution_count": 171,
   "metadata": {
    "collapsed": false
   },
   "outputs": [],
   "source": [
    "segment2 = devices[devices['item_id'] == 55]['user_id'].unique()"
   ]
  },
  {
   "cell_type": "code",
   "execution_count": 197,
   "metadata": {
    "collapsed": false
   },
   "outputs": [],
   "source": [
    "segment3 = actions[actions.time_stamp.map(lambda x: x.month in [10,11,12])]"
   ]
  },
  {
   "cell_type": "code",
   "execution_count": 198,
   "metadata": {
    "collapsed": false
   },
   "outputs": [],
   "source": [
    "segment3 = segment3[actions['action_type'] == 'purchase']['user_id'].unique()"
   ]
  },
  {
   "cell_type": "code",
   "execution_count": 199,
   "metadata": {
    "collapsed": false
   },
   "outputs": [
    {
     "data": {
      "text/plain": [
       "(880, 3817, 4306)"
      ]
     },
     "execution_count": 199,
     "metadata": {},
     "output_type": "execute_result"
    }
   ],
   "source": [
    "len(segment1),len(segment2),len(segment3)"
   ]
  },
  {
   "cell_type": "code",
   "execution_count": 200,
   "metadata": {
    "collapsed": true
   },
   "outputs": [],
   "source": [
    "devices['segment1'] = np.where(devices.user_id.map(lambda x: x in segment1),1,0)\n",
    "devices['segment2'] = np.where(devices.user_id.map(lambda x: x in segment2),1,0)\n",
    "devices['segment3'] = np.where(devices.user_id.map(lambda x: x in segment3),1,0)"
   ]
  },
  {
   "cell_type": "code",
   "execution_count": 203,
   "metadata": {
    "collapsed": false
   },
   "outputs": [],
   "source": [
    "actions['segment1'] = np.where(actions.user_id.map(lambda x: x in segment1),1,0)\n",
    "actions['segment2'] = np.where(actions.user_id.map(lambda x: x in segment2),1,0)\n",
    "actions['segment3'] = np.where(actions.user_id.map(lambda x: x in segment3),1,0)"
   ]
  },
  {
   "cell_type": "code",
   "execution_count": null,
   "metadata": {
    "collapsed": true
   },
   "outputs": [],
   "source": []
  }
 ],
 "metadata": {
  "kernelspec": {
   "display_name": "Python 2",
   "language": "python",
   "name": "python2"
  },
  "language_info": {
   "codemirror_mode": {
    "name": "ipython",
    "version": 2
   },
   "file_extension": ".py",
   "mimetype": "text/x-python",
   "name": "python",
   "nbconvert_exporter": "python",
   "pygments_lexer": "ipython2",
   "version": "2.7.9"
  }
 },
 "nbformat": 4,
 "nbformat_minor": 0
}
