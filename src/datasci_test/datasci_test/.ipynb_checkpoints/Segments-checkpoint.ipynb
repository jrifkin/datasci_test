{
 "cells": [
  {
   "cell_type": "markdown",
   "metadata": {},
   "source": [
    "#connect to database and import tables"
   ]
  },
  {
   "cell_type": "code",
   "execution_count": 13,
   "metadata": {
    "collapsed": true
   },
   "outputs": [],
   "source": [
    "import ConfigParser\n",
    "import sys\n",
    "import MySQLdb as mdb\n",
    "import pandas as pd\n",
    "from pandas import DataFrame,Series\n",
    "import numpy as np\n",
    "%matplotlib inline\n",
    "%gui"
   ]
  },
  {
   "cell_type": "code",
   "execution_count": 3,
   "metadata": {
    "collapsed": true
   },
   "outputs": [],
   "source": [
    "def get_configuration(conf_file='db.conf'):\n",
    "    new_config = ConfigParser.SafeConfigParser()\n",
    "    try:\n",
    "        with open(conf_file, 'r') as dbconf_file:\n",
    "            new_config.readfp(dbconf_file)\n",
    "    except ConfigParser.ParsingError, parse_err:\n",
    "        print parse_err\n",
    "\n",
    "    return new_config\n",
    "\n",
    "def make_connection(cf):\n",
    "    \n",
    "    dialect = cf.get('Database', 'type')\n",
    "    user = cf.get('Database', 'db_user')\n",
    "    pw = cf.get('Database', 'password')\n",
    "    host = cf.get('Database', 'host')\n",
    "    db_name = cf.get('Database', 'dbname')\n",
    "    port = cf.get('Database', 'port')\n",
    "    driver = cf.get('Database', 'driver')\n",
    "    \n",
    "    con = mdb.connect(host,user,pw,db_name)\n",
    "    return con\n",
    "\n",
    "def query_db(connection,query):\n",
    "    df = pd.read_sql_query(query,connection)\n",
    "\n",
    "    return df"
   ]
  },
  {
   "cell_type": "code",
   "execution_count": 8,
   "metadata": {
    "collapsed": false
   },
   "outputs": [],
   "source": [
    "dbconfig = get_configuration()\n",
    "connection = make_connection(dbconfig)\n",
    "q_devices = \"Select * from datasci.devices\"\n",
    "q_actions = \"Select * from datasci.actions\"\n",
    "q_products_lookup = \"Select * from datasci.products_lookup\"\n",
    "\n",
    "devices = query_db(connection, q_devices)\n",
    "actions = query_db(connection, q_actions)\n",
    "product_lookup = query_db(connection, q_products_lookup)"
   ]
  },
  {
   "cell_type": "code",
   "execution_count": 23,
   "metadata": {
    "collapsed": false
   },
   "outputs": [],
   "source": [
    "segment_table = Series({1:'Best Buy',2:'Status Indicator SM',3:'Holiday Purchaser'})"
   ]
  },
  {
   "cell_type": "markdown",
   "metadata": {},
   "source": [
    "##Question 1: Which segment is the most valuable?"
   ]
  },
  {
   "cell_type": "markdown",
   "metadata": {},
   "source": [
    "###Segment 1:Bought @ least 1 item from best buy"
   ]
  },
  {
   "cell_type": "code",
   "execution_count": 24,
   "metadata": {
    "collapsed": false
   },
   "outputs": [
    {
     "data": {
      "text/plain": [
       "1               Best Buy\n",
       "2    Status Indicator SM\n",
       "3      Holiday Purchaser\n",
       "dtype: object"
      ]
     },
     "execution_count": 24,
     "metadata": {},
     "output_type": "execute_result"
    }
   ],
   "source": [
    "segment_table"
   ]
  },
  {
   "cell_type": "code",
   "execution_count": 33,
   "metadata": {
    "collapsed": false
   },
   "outputs": [],
   "source": [
    "segment1 = actions[actions['action_type'] == 'purchase']# and actions['dealer'] == 'Best Buy']"
   ]
  },
  {
   "cell_type": "code",
   "execution_count": 38,
   "metadata": {
    "collapsed": false
   },
   "outputs": [],
   "source": [
    "segment1 = segment1[segment1['dealer'] == 'Best Buy']['user_id']"
   ]
  },
  {
   "cell_type": "code",
   "execution_count": 29,
   "metadata": {
    "collapsed": false
   },
   "outputs": [],
   "source": [
    "segment2 = devices[devices['item_id'] == 55]['user_id']"
   ]
  },
  {
   "cell_type": "code",
   "execution_count": 41,
   "metadata": {
    "collapsed": false
   },
   "outputs": [
    {
     "data": {
      "text/plain": [
       "(1794, 6330)"
      ]
     },
     "execution_count": 41,
     "metadata": {},
     "output_type": "execute_result"
    }
   ],
   "source": [
    "len(segment1),len(segment2)"
   ]
  },
  {
   "cell_type": "code",
   "execution_count": null,
   "metadata": {
    "collapsed": true
   },
   "outputs": [],
   "source": []
  }
 ],
 "metadata": {
  "kernelspec": {
   "display_name": "Python 2",
   "language": "python",
   "name": "python2"
  },
  "language_info": {
   "codemirror_mode": {
    "name": "ipython",
    "version": 2
   },
   "file_extension": ".py",
   "mimetype": "text/x-python",
   "name": "python",
   "nbconvert_exporter": "python",
   "pygments_lexer": "ipython2",
   "version": "2.7.9"
  }
 },
 "nbformat": 4,
 "nbformat_minor": 0
}
